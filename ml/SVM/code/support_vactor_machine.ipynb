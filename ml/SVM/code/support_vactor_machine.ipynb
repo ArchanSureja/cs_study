{
 "cells": [
  {
   "cell_type": "code",
   "execution_count": 35,
   "id": "41416191",
   "metadata": {},
   "outputs": [],
   "source": [
    "import numpy as np \n",
    "class SVM():\n",
    "    \"\"\"\n",
    "    x : numpy array of the input data points  (given datapoints are considered as support vactor points)\n",
    "    y : label assoicated with the each data point \n",
    "    \"\"\"\n",
    "    def __init__(self,x,y):\n",
    "        self.x = x\n",
    "        self.y = y \n",
    "        self.w = None \n",
    "        self.b = None \n",
    "    def fit(self):\n",
    "        size = self.x.shape[0]\n",
    "        new_col = np.ones(size)\n",
    "        self.x = np.insert(self.x,self.x.shape[1],new_col,axis=1)\n",
    "        self.w = np.linalg.solve(self.x,self.y)\n",
    "        self.b = self.w[-1]\n",
    "        self.w = self.w[:-1]\n",
    "    def predict(self,u):\n",
    "        print(np.sign(np.dot(self.w.T,u)+self.b))\n",
    "        "
   ]
  },
  {
   "cell_type": "code",
   "execution_count": 37,
   "id": "fc1c5a11",
   "metadata": {},
   "outputs": [
    {
     "name": "stdout",
     "output_type": "stream",
     "text": [
      "1.0\n"
     ]
    }
   ],
   "source": [
    "x = np.array([[1,2],[2,1],[3,3]])\n",
    "y = np.array([-1,-1,1])\n",
    "\n",
    "svm_model = SVM(x=x,y=y) # passed datapoints are support vectors only \n",
    "svm_model.fit()\n",
    "svm_model.predict([3,3])"
   ]
  }
 ],
 "metadata": {
  "kernelspec": {
   "display_name": "Python 3 (ipykernel)",
   "language": "python",
   "name": "python3"
  },
  "language_info": {
   "codemirror_mode": {
    "name": "ipython",
    "version": 3
   },
   "file_extension": ".py",
   "mimetype": "text/x-python",
   "name": "python",
   "nbconvert_exporter": "python",
   "pygments_lexer": "ipython3",
   "version": "3.12.3"
  }
 },
 "nbformat": 4,
 "nbformat_minor": 5
}
