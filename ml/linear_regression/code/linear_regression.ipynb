{
 "cells": [
  {
   "cell_type": "code",
   "execution_count": 114,
   "id": "0b8a5041",
   "metadata": {},
   "outputs": [],
   "source": [
    "import numpy as np \n",
    "class LinearRegression():\n",
    "    \"\"\"\n",
    "    x : input vector , 2-d numpy array \n",
    "    y : labels for each input vector , 1-d numpy array \n",
    "    alpha : learning rate \n",
    "    lambda : regularization rate \n",
    "    epochs : number of training epochs \n",
    "    degree : polynomial degree of the hypothesis function \n",
    "    \n",
    "    \"\"\"\n",
    "    def __init__(self,x,y,alpha=0.0001,lambda_=0.001,epochs=100):\n",
    "        self.x = np.array(x) \n",
    "        new_col = np.full((self.x.shape[0],1),1)\n",
    "        print(new_col)\n",
    "        self.x = np.hstack((new_col,self.x))\n",
    "        print(self.x)\n",
    "        self.y = np.array(y)\n",
    "        self.alpha = alpha\n",
    "        self.lambda_ = lambda_\n",
    "        self.epochs = epochs \n",
    "        self.thetas = np.full((1,self.x.shape[1]),0.5)\n",
    "        print(self.thetas)\n",
    "        \n",
    "    def fit(self):\n",
    "        for epoch  in range(self.epochs):\n",
    "            \n",
    "            grads = np.zeros(self.thetas.shape[1])\n",
    "            \n",
    "            for i,input_x in enumerate(self.x):\n",
    "                pred = np.dot(self.thetas,input_x.T)\n",
    "                actual = self.y[i]\n",
    "                error = pred - actual\n",
    "                \n",
    "                for i in range(self.thetas.shape[1]):\n",
    "                    grads[i] += (error*(input_x[i].item()) + self.lambda_*(self.thetas[0,i].item()))\n",
    "            grads = grads * (1/self.x.shape[0])\n",
    "            self.thetas = self.thetas - (self.alpha * grads) \n",
    "        print(self.thetas)\n",
    "    \n",
    "    def predict(self,x):\n",
    "        x = np.array(x)\n",
    "        return np.dot(self.thetas,x.T)\n",
    "                \n",
    "                "
   ]
  },
  {
   "cell_type": "code",
   "execution_count": 115,
   "id": "fee81fa5",
   "metadata": {},
   "outputs": [
    {
     "name": "stdout",
     "output_type": "stream",
     "text": [
      "[[1]\n",
      " [1]\n",
      " [1]\n",
      " [1]\n",
      " [1]]\n",
      "[[  1  73  67  43]\n",
      " [  1  91  88  64]\n",
      " [  1  87 134  58]\n",
      " [  1 102  43  37]\n",
      " [  1  69  96  70]]\n",
      "[[0.5 0.5 0.5 0.5]]\n",
      "[[ 0.49237692 -0.40399652  0.84812251  0.68424784]]\n"
     ]
    },
    {
     "name": "stderr",
     "output_type": "stream",
     "text": [
      "/tmp/ipykernel_1162/3828959946.py:36: DeprecationWarning: Conversion of an array with ndim > 0 to a scalar is deprecated, and will error in future. Ensure you extract a single element from your array before performing this operation. (Deprecated NumPy 1.25.)\n",
      "  grads[i] += (error*(input_x[i].item()) + self.lambda_*(self.thetas[0,i].item()))\n"
     ]
    },
    {
     "data": {
      "text/plain": [
       "array([31.83993877])"
      ]
     },
     "execution_count": 115,
     "metadata": {},
     "output_type": "execute_result"
    }
   ],
   "source": [
    "# actual data testing \n",
    "\n",
    "model = LinearRegression(x=[[73,67,43],\n",
    "        [91,88,64],\n",
    "        [87,134,58],\n",
    "        [102,43,37],\n",
    "        [69,96,70]], y = [56,81,119,22,103],epochs=1000)\n",
    "model.fit()\n",
    "model.predict(x=[1,70,34,45])"
   ]
  },
  {
   "cell_type": "code",
   "execution_count": 116,
   "id": "8adbe5c5",
   "metadata": {},
   "outputs": [
    {
     "name": "stdout",
     "output_type": "stream",
     "text": [
      "[[1]\n",
      " [1]]\n",
      "[[1 1 1]\n",
      " [1 2 2]]\n",
      "[[0.5 0.5 0.5]]\n",
      "[[0.46135154 0.4436017  0.4436017 ]]\n"
     ]
    },
    {
     "name": "stderr",
     "output_type": "stream",
     "text": [
      "/tmp/ipykernel_1162/3828959946.py:36: DeprecationWarning: Conversion of an array with ndim > 0 to a scalar is deprecated, and will error in future. Ensure you extract a single element from your array before performing this operation. (Deprecated NumPy 1.25.)\n",
      "  grads[i] += (error*(input_x[i].item()) + self.lambda_*(self.thetas[0,i].item()))\n"
     ]
    },
    {
     "data": {
      "text/plain": [
       "array([1.34855494])"
      ]
     },
     "execution_count": 116,
     "metadata": {},
     "output_type": "execute_result"
    }
   ],
   "source": [
    "model = LinearRegression(x=[[1,1],[2,2]],y=[1,2],epochs=1000)\n",
    "model.fit() \n",
    "model.predict([1,1,1])"
   ]
  }
 ],
 "metadata": {
  "kernelspec": {
   "display_name": "Python 3 (ipykernel)",
   "language": "python",
   "name": "python3"
  },
  "language_info": {
   "codemirror_mode": {
    "name": "ipython",
    "version": 3
   },
   "file_extension": ".py",
   "mimetype": "text/x-python",
   "name": "python",
   "nbconvert_exporter": "python",
   "pygments_lexer": "ipython3",
   "version": "3.12.3"
  }
 },
 "nbformat": 4,
 "nbformat_minor": 5
}
