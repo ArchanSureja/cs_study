{
  "cells": [
    {
      "cell_type": "code",
      "execution_count": 27,
      "metadata": {
        "vscode": {
          "languageId": "plaintext"
        },
        "id": "cd-fMbb3ScSJ",
        "outputId": "94eb53aa-fb22-4721-e91e-9c00ff67c5b9",
        "colab": {
          "base_uri": "https://localhost:8080/"
        }
      },
      "outputs": [
        {
          "output_type": "stream",
          "name": "stdout",
          "text": [
            "(148670, 34)\n",
            "Column: loan_limit\n",
            "Unique values: ['cf' 'ncf'] \n",
            "\n",
            "Column: Gender\n",
            "Unique values: ['Sex Not Available' 'Male' 'Joint' 'Female'] \n",
            "\n",
            "Column: approv_in_adv\n",
            "Unique values: ['nopre' 'pre'] \n",
            "\n",
            "Column: loan_type\n",
            "Unique values: ['type1' 'type2' 'type3'] \n",
            "\n",
            "Column: loan_purpose\n",
            "Unique values: ['p1' 'p4' 'p3' 'p2'] \n",
            "\n",
            "Column: Credit_Worthiness\n",
            "Unique values: ['l1' 'l2'] \n",
            "\n",
            "Column: open_credit\n",
            "Unique values: ['nopc' 'opc'] \n",
            "\n",
            "Column: business_or_commercial\n",
            "Unique values: ['nob/c' 'b/c'] \n",
            "\n",
            "Column: Neg_ammortization\n",
            "Unique values: ['not_neg' 'neg_amm'] \n",
            "\n",
            "Column: interest_only\n",
            "Unique values: ['not_int' 'int_only'] \n",
            "\n",
            "Column: lump_sum_payment\n",
            "Unique values: ['not_lpsm' 'lpsm'] \n",
            "\n",
            "Column: construction_type\n",
            "Unique values: ['sb' 'mh'] \n",
            "\n",
            "Column: occupancy_type\n",
            "Unique values: ['pr' 'sr' 'ir'] \n",
            "\n",
            "Column: Secured_by\n",
            "Unique values: ['home' 'land'] \n",
            "\n",
            "Column: total_units\n",
            "Unique values: ['1U' '2U' '3U' '4U'] \n",
            "\n",
            "Column: credit_type\n",
            "Unique values: ['EXP' 'EQUI' 'CRIF' 'CIB'] \n",
            "\n",
            "Column: co-applicant_credit_type\n",
            "Unique values: ['CIB' 'EXP'] \n",
            "\n",
            "Column: age\n",
            "Unique values: ['25-34' '55-64' '35-44' '45-54' '65-74' '>74' '<25'] \n",
            "\n",
            "Column: submission_of_application\n",
            "Unique values: ['to_inst' 'not_inst'] \n",
            "\n",
            "Column: Region\n",
            "Unique values: ['south' 'North' 'central' 'North-East'] \n",
            "\n",
            "Column: Security_Type\n",
            "Unique values: ['direct' 'Indriect'] \n",
            "\n",
            "(107600, 34)\n"
          ]
        }
      ],
      "source": [
        "import pandas as pd\n",
        "df = pd.read_csv(\"/content/drive/MyDrive/Loan_Default.csv\")\n",
        "# print(df.head())\n",
        "\n",
        "print(df.shape)\n",
        "for column in df.select_dtypes(include=['object']).columns:\n",
        "    print(f\"Column: {column}\")\n",
        "    df = df.dropna(subset=[column]) # drop na values for given column\n",
        "    print(\"Unique values:\", df[column].unique(), \"\\n\")\n",
        "\n",
        "df = df[df['Gender'] != 'Sex Not Available']\n",
        "print(df.shape)\n",
        "\n",
        "\n",
        "# status column will decide whether loan is defaulted or not , 0 not , 1 yes\n"
      ]
    },
    {
      "cell_type": "code",
      "source": [
        "# using only categorical values for DecisionTree\n",
        "\n",
        "feature_list = df.select_dtypes(include=['object']).columns\n",
        "print(len(feature_list))\n",
        "\n",
        "# encoding every categorical column and displaying it's mapping\n",
        "from sklearn import preprocessing\n",
        "label_encoder = preprocessing.LabelEncoder()\n",
        "encoded_feautures = {}\n",
        "for column in feature_list:\n",
        "  encoded_feautures[column]=label_encoder.fit_transform(df[column])\n",
        "  print(dict(zip(label_encoder.classes_, label_encoder.transform(label_encoder.classes_))))\n"
      ],
      "metadata": {
        "id": "fWTIQ6Tlbvgk",
        "outputId": "084470f2-ce5a-49b8-f54c-cc3ba1a5cef2",
        "colab": {
          "base_uri": "https://localhost:8080/"
        }
      },
      "execution_count": 31,
      "outputs": [
        {
          "output_type": "stream",
          "name": "stdout",
          "text": [
            "21\n",
            "{'cf': np.int64(0), 'ncf': np.int64(1)}\n",
            "{'Female': np.int64(0), 'Joint': np.int64(1), 'Male': np.int64(2)}\n",
            "{'nopre': np.int64(0), 'pre': np.int64(1)}\n",
            "{'type1': np.int64(0), 'type2': np.int64(1), 'type3': np.int64(2)}\n",
            "{'p1': np.int64(0), 'p2': np.int64(1), 'p3': np.int64(2), 'p4': np.int64(3)}\n",
            "{'l1': np.int64(0), 'l2': np.int64(1)}\n",
            "{'nopc': np.int64(0), 'opc': np.int64(1)}\n",
            "{'b/c': np.int64(0), 'nob/c': np.int64(1)}\n",
            "{'neg_amm': np.int64(0), 'not_neg': np.int64(1)}\n",
            "{'int_only': np.int64(0), 'not_int': np.int64(1)}\n",
            "{'lpsm': np.int64(0), 'not_lpsm': np.int64(1)}\n",
            "{'mh': np.int64(0), 'sb': np.int64(1)}\n",
            "{'ir': np.int64(0), 'pr': np.int64(1), 'sr': np.int64(2)}\n",
            "{'home': np.int64(0), 'land': np.int64(1)}\n",
            "{'1U': np.int64(0), '2U': np.int64(1), '3U': np.int64(2), '4U': np.int64(3)}\n",
            "{'CIB': np.int64(0), 'CRIF': np.int64(1), 'EQUI': np.int64(2), 'EXP': np.int64(3)}\n",
            "{'CIB': np.int64(0), 'EXP': np.int64(1)}\n",
            "{'25-34': np.int64(0), '35-44': np.int64(1), '45-54': np.int64(2), '55-64': np.int64(3), '65-74': np.int64(4), '<25': np.int64(5), '>74': np.int64(6)}\n",
            "{'not_inst': np.int64(0), 'to_inst': np.int64(1)}\n",
            "{'North': np.int64(0), 'North-East': np.int64(1), 'central': np.int64(2), 'south': np.int64(3)}\n",
            "{'Indriect': np.int64(0), 'direct': np.int64(1)}\n"
          ]
        }
      ]
    },
    {
      "cell_type": "code",
      "source": [
        "# merging all categorical column for creating dataset for decision tree classifier\n",
        "\n",
        "# print(encoded_feautures) # dict object with encoded values\n",
        "#converting back the encoded features in pd dataframe\n",
        "\n",
        "x = pd.DataFrame(encoded_feautures)\n",
        "print(x.head())\n",
        "y = df['Status'] # target value\n",
        "print(y.head())\n",
        "#target\n",
        "from sklearn.tree import DecisionTreeClassifier\n",
        "from sklearn.model_selection import train_test_split\n",
        "\n",
        "x_train, x_test, y_train, y_test = train_test_split(x, y, test_size=0.2, random_state=1)\n",
        "clf_entropy_based_model = DecisionTreeClassifier(criterion=\"entropy\", random_state=100)\n",
        "clf_entropy_based_model.fit(x_train, y_train)\n",
        "print(clf_entropy_based_model.score(x_test, y_test))\n",
        "\n",
        "clf_gini_based_model = DecisionTreeClassifier(criterion=\"gini\", random_state=100)\n",
        "clf_gini_based_model.fit(x_train, y_train)\n",
        "print(clf_gini_based_model.score(x_test, y_test))\n"
      ],
      "metadata": {
        "id": "y6LY8VfMe7-m",
        "outputId": "6bf54cdb-1046-40ba-f817-ef8d1e9c848d",
        "colab": {
          "base_uri": "https://localhost:8080/"
        }
      },
      "execution_count": 35,
      "outputs": [
        {
          "output_type": "stream",
          "name": "stdout",
          "text": [
            "   loan_limit  Gender  approv_in_adv  loan_type  loan_purpose  \\\n",
            "0           0       2              0          1             0   \n",
            "1           0       2              1          0             0   \n",
            "2           0       2              0          0             3   \n",
            "3           0       1              1          0             0   \n",
            "4           0       1              1          0             0   \n",
            "\n",
            "   Credit_Worthiness  open_credit  business_or_commercial  Neg_ammortization  \\\n",
            "0                  0            0                       0                  1   \n",
            "1                  0            0                       1                  0   \n",
            "2                  0            0                       1                  1   \n",
            "3                  0            0                       1                  1   \n",
            "4                  0            0                       1                  1   \n",
            "\n",
            "   interest_only  ...  construction_type  occupancy_type  Secured_by  \\\n",
            "0              1  ...                  1               1           0   \n",
            "1              1  ...                  1               1           0   \n",
            "2              1  ...                  1               1           0   \n",
            "3              1  ...                  1               1           0   \n",
            "4              1  ...                  1               1           0   \n",
            "\n",
            "   total_units  credit_type  co-applicant_credit_type  age  \\\n",
            "0            0            2                         1    3   \n",
            "1            0            3                         0    1   \n",
            "2            0            3                         0    2   \n",
            "3            0            1                         1    0   \n",
            "4            0            3                         1    1   \n",
            "\n",
            "   submission_of_application  Region  Security_Type  \n",
            "0                          1       0              1  \n",
            "1                          1       3              1  \n",
            "2                          0       0              1  \n",
            "3                          0       0              1  \n",
            "4                          0       0              1  \n",
            "\n",
            "[5 rows x 21 columns]\n",
            "1    1\n",
            "2    0\n",
            "3    0\n",
            "4    0\n",
            "5    0\n",
            "Name: Status, dtype: int64\n",
            "0.8587360594795539\n",
            "0.8586431226765799\n"
          ]
        }
      ]
    }
  ],
  "metadata": {
    "language_info": {
      "name": "python"
    },
    "colab": {
      "provenance": []
    },
    "kernelspec": {
      "name": "python3",
      "display_name": "Python 3"
    }
  },
  "nbformat": 4,
  "nbformat_minor": 0
}