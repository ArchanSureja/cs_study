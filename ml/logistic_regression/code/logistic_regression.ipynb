{
 "cells": [
  {
   "cell_type": "code",
   "execution_count": null,
   "id": "3dbad5d6",
   "metadata": {},
   "outputs": [],
   "source": [
    "import numpy as np \n",
    "class LogisticRegression():\n",
    "    \"\"\"\n",
    "    x : 2-d numpy input vector \n",
    "    y : 1-d output label vector , class labels encoded \n",
    "    alpha : learning rate \n",
    "    lambda_ : regularization rate \n",
    "    epochs : no of training iterations \n",
    "    \n",
    "    \"\"\"\n",
    "    def __init__(self,x,y,alpha=0.0001,lambda_=0.01,epochs=1000):\n",
    "        self.x = np.array(x)\n",
    "        new_col = np.full((self.x.shape[0],1),1)\n",
    "        self.x = np.hstack((new_col,self.x))\n",
    "        self.y = np.array(y)\n",
    "        self.alpha = alpha\n",
    "        self.lambda_ = lambda_ \n",
    "        self.epochs = epochs \n",
    "        self.thetas = np.full((1,self.x.shape[1]),0.5) \n",
    "        \n",
    "    def sigmoid(self,z):\n",
    "        return 1/(1+np.exp(-z))\n",
    "    \n",
    "    def error(self,pred,actual):\n",
    "        return -(actual*np.log(pred)+(1-actual)*(np.log(1-pred)))\n",
    "    \n",
    "    def fit(self):\n",
    "        # using batch gradient descent\n",
    "        for epoch in range(self.epochs):\n",
    "            grads = np.full((1,self.x.shape[1]),0)\n",
    "            for i,input_x in enumerate(self.x):\n",
    "                pred = self.sigmoid(np.dot(self.thetas,self.x.T)).item()\n",
    "                actual = self.y[i]\n",
    "                grads = grads + (pred-actual)*(self.x[i]) + self.lambda_*(self.thetas)\n",
    "            grads = grads * (1/self.x.shape[0])\n",
    "            self.thetas = self.thetas - (self.alpha*grads)\n",
    "            \n",
    "    def predict(self,x):\n",
    "        if self.sigmoid(np.dot(self.thetas,x.T)).item() >=0.5:\n",
    "            print(1)\n",
    "        else:\n",
    "            print(0)\n",
    "            "
   ]
  }
 ],
 "metadata": {
  "language_info": {
   "name": "python"
  }
 },
 "nbformat": 4,
 "nbformat_minor": 5
}
